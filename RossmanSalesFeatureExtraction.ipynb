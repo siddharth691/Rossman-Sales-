{
 "cells": [
  {
   "cell_type": "code",
   "execution_count": 2,
   "metadata": {
    "collapsed": true
   },
   "outputs": [],
   "source": [
    "import pandas as pd\n",
    "import numpy as np\n",
    "import matplotlib.pyplot as plt\n",
    "import datetime"
   ]
  },
  {
   "cell_type": "code",
   "execution_count": 3,
   "metadata": {
    "collapsed": false
   },
   "outputs": [
    {
     "name": "stderr",
     "output_type": "stream",
     "text": [
      "C:\\Program Files\\Anaconda3\\lib\\site-packages\\IPython\\core\\interactiveshell.py:2717: DtypeWarning: Columns (7) have mixed types. Specify dtype option on import or set low_memory=False.\n",
      "  interactivity=interactivity, compiler=compiler, result=result)\n"
     ]
    }
   ],
   "source": [
    "store = pd.read_csv('store.csv')\n",
    "train = pd.read_csv('train.csv')\n",
    "test = pd.read_csv('test.csv')\n",
    "train.Date = pd.to_datetime(train.Date)\n",
    "test.Date = pd.to_datetime(test.Date)"
   ]
  },
  {
   "cell_type": "code",
   "execution_count": 70,
   "metadata": {
    "collapsed": false
   },
   "outputs": [
    {
     "data": {
      "text/html": [
       "<div>\n",
       "<table border=\"1\" class=\"dataframe\">\n",
       "  <thead>\n",
       "    <tr style=\"text-align: right;\">\n",
       "      <th></th>\n",
       "      <th>Id</th>\n",
       "      <th>Store</th>\n",
       "      <th>DayOfWeek</th>\n",
       "      <th>Date</th>\n",
       "      <th>Open</th>\n",
       "      <th>Promo</th>\n",
       "      <th>StateHoliday</th>\n",
       "      <th>SchoolHoliday</th>\n",
       "    </tr>\n",
       "  </thead>\n",
       "  <tbody>\n",
       "    <tr>\n",
       "      <th>0</th>\n",
       "      <td>1</td>\n",
       "      <td>1</td>\n",
       "      <td>4</td>\n",
       "      <td>2015-09-17</td>\n",
       "      <td>1.0</td>\n",
       "      <td>1</td>\n",
       "      <td>0</td>\n",
       "      <td>0</td>\n",
       "    </tr>\n",
       "    <tr>\n",
       "      <th>1</th>\n",
       "      <td>2</td>\n",
       "      <td>3</td>\n",
       "      <td>4</td>\n",
       "      <td>2015-09-17</td>\n",
       "      <td>1.0</td>\n",
       "      <td>1</td>\n",
       "      <td>0</td>\n",
       "      <td>0</td>\n",
       "    </tr>\n",
       "    <tr>\n",
       "      <th>2</th>\n",
       "      <td>3</td>\n",
       "      <td>7</td>\n",
       "      <td>4</td>\n",
       "      <td>2015-09-17</td>\n",
       "      <td>1.0</td>\n",
       "      <td>1</td>\n",
       "      <td>0</td>\n",
       "      <td>0</td>\n",
       "    </tr>\n",
       "    <tr>\n",
       "      <th>3</th>\n",
       "      <td>4</td>\n",
       "      <td>8</td>\n",
       "      <td>4</td>\n",
       "      <td>2015-09-17</td>\n",
       "      <td>1.0</td>\n",
       "      <td>1</td>\n",
       "      <td>0</td>\n",
       "      <td>0</td>\n",
       "    </tr>\n",
       "    <tr>\n",
       "      <th>4</th>\n",
       "      <td>5</td>\n",
       "      <td>9</td>\n",
       "      <td>4</td>\n",
       "      <td>2015-09-17</td>\n",
       "      <td>1.0</td>\n",
       "      <td>1</td>\n",
       "      <td>0</td>\n",
       "      <td>0</td>\n",
       "    </tr>\n",
       "  </tbody>\n",
       "</table>\n",
       "</div>"
      ],
      "text/plain": [
       "   Id  Store  DayOfWeek       Date  Open  Promo StateHoliday  SchoolHoliday\n",
       "0   1      1          4 2015-09-17   1.0      1            0              0\n",
       "1   2      3          4 2015-09-17   1.0      1            0              0\n",
       "2   3      7          4 2015-09-17   1.0      1            0              0\n",
       "3   4      8          4 2015-09-17   1.0      1            0              0\n",
       "4   5      9          4 2015-09-17   1.0      1            0              0"
      ]
     },
     "execution_count": 70,
     "metadata": {},
     "output_type": "execute_result"
    }
   ],
   "source": [
    "test.head()"
   ]
  },
  {
   "cell_type": "code",
   "execution_count": 71,
   "metadata": {
    "collapsed": false
   },
   "outputs": [
    {
     "data": {
      "text/html": [
       "<div>\n",
       "<table border=\"1\" class=\"dataframe\">\n",
       "  <thead>\n",
       "    <tr style=\"text-align: right;\">\n",
       "      <th></th>\n",
       "      <th>Store</th>\n",
       "      <th>DayOfWeek</th>\n",
       "      <th>Date</th>\n",
       "      <th>Sales</th>\n",
       "      <th>Customers</th>\n",
       "      <th>Open</th>\n",
       "      <th>Promo</th>\n",
       "      <th>StateHoliday</th>\n",
       "      <th>SchoolHoliday</th>\n",
       "    </tr>\n",
       "  </thead>\n",
       "  <tbody>\n",
       "    <tr>\n",
       "      <th>0</th>\n",
       "      <td>1</td>\n",
       "      <td>5</td>\n",
       "      <td>2015-07-31</td>\n",
       "      <td>5263</td>\n",
       "      <td>555</td>\n",
       "      <td>1</td>\n",
       "      <td>1</td>\n",
       "      <td>0</td>\n",
       "      <td>1</td>\n",
       "    </tr>\n",
       "    <tr>\n",
       "      <th>1</th>\n",
       "      <td>2</td>\n",
       "      <td>5</td>\n",
       "      <td>2015-07-31</td>\n",
       "      <td>6064</td>\n",
       "      <td>625</td>\n",
       "      <td>1</td>\n",
       "      <td>1</td>\n",
       "      <td>0</td>\n",
       "      <td>1</td>\n",
       "    </tr>\n",
       "    <tr>\n",
       "      <th>2</th>\n",
       "      <td>3</td>\n",
       "      <td>5</td>\n",
       "      <td>2015-07-31</td>\n",
       "      <td>8314</td>\n",
       "      <td>821</td>\n",
       "      <td>1</td>\n",
       "      <td>1</td>\n",
       "      <td>0</td>\n",
       "      <td>1</td>\n",
       "    </tr>\n",
       "    <tr>\n",
       "      <th>3</th>\n",
       "      <td>4</td>\n",
       "      <td>5</td>\n",
       "      <td>2015-07-31</td>\n",
       "      <td>13995</td>\n",
       "      <td>1498</td>\n",
       "      <td>1</td>\n",
       "      <td>1</td>\n",
       "      <td>0</td>\n",
       "      <td>1</td>\n",
       "    </tr>\n",
       "    <tr>\n",
       "      <th>4</th>\n",
       "      <td>5</td>\n",
       "      <td>5</td>\n",
       "      <td>2015-07-31</td>\n",
       "      <td>4822</td>\n",
       "      <td>559</td>\n",
       "      <td>1</td>\n",
       "      <td>1</td>\n",
       "      <td>0</td>\n",
       "      <td>1</td>\n",
       "    </tr>\n",
       "  </tbody>\n",
       "</table>\n",
       "</div>"
      ],
      "text/plain": [
       "   Store  DayOfWeek       Date  Sales  Customers  Open  Promo StateHoliday  \\\n",
       "0      1          5 2015-07-31   5263        555     1      1            0   \n",
       "1      2          5 2015-07-31   6064        625     1      1            0   \n",
       "2      3          5 2015-07-31   8314        821     1      1            0   \n",
       "3      4          5 2015-07-31  13995       1498     1      1            0   \n",
       "4      5          5 2015-07-31   4822        559     1      1            0   \n",
       "\n",
       "   SchoolHoliday  \n",
       "0              1  \n",
       "1              1  \n",
       "2              1  \n",
       "3              1  \n",
       "4              1  "
      ]
     },
     "execution_count": 71,
     "metadata": {},
     "output_type": "execute_result"
    }
   ],
   "source": [
    "train.head()"
   ]
  },
  {
   "cell_type": "code",
   "execution_count": 72,
   "metadata": {
    "collapsed": false,
    "scrolled": true
   },
   "outputs": [
    {
     "data": {
      "text/html": [
       "<div>\n",
       "<table border=\"1\" class=\"dataframe\">\n",
       "  <thead>\n",
       "    <tr style=\"text-align: right;\">\n",
       "      <th></th>\n",
       "      <th>Store</th>\n",
       "      <th>DayOfWeek</th>\n",
       "      <th>Sales</th>\n",
       "      <th>Open</th>\n",
       "      <th>Promo</th>\n",
       "      <th>StateHoliday</th>\n",
       "      <th>SchoolHoliday</th>\n",
       "    </tr>\n",
       "    <tr>\n",
       "      <th>Date</th>\n",
       "      <th></th>\n",
       "      <th></th>\n",
       "      <th></th>\n",
       "      <th></th>\n",
       "      <th></th>\n",
       "      <th></th>\n",
       "      <th></th>\n",
       "    </tr>\n",
       "  </thead>\n",
       "  <tbody>\n",
       "    <tr>\n",
       "      <th>2013-01-01</th>\n",
       "      <td>1115</td>\n",
       "      <td>2</td>\n",
       "      <td>0</td>\n",
       "      <td>0</td>\n",
       "      <td>0</td>\n",
       "      <td>a</td>\n",
       "      <td>1</td>\n",
       "    </tr>\n",
       "    <tr>\n",
       "      <th>2013-01-01</th>\n",
       "      <td>379</td>\n",
       "      <td>2</td>\n",
       "      <td>0</td>\n",
       "      <td>0</td>\n",
       "      <td>0</td>\n",
       "      <td>a</td>\n",
       "      <td>1</td>\n",
       "    </tr>\n",
       "    <tr>\n",
       "      <th>2013-01-01</th>\n",
       "      <td>378</td>\n",
       "      <td>2</td>\n",
       "      <td>0</td>\n",
       "      <td>0</td>\n",
       "      <td>0</td>\n",
       "      <td>a</td>\n",
       "      <td>1</td>\n",
       "    </tr>\n",
       "    <tr>\n",
       "      <th>2013-01-01</th>\n",
       "      <td>377</td>\n",
       "      <td>2</td>\n",
       "      <td>0</td>\n",
       "      <td>0</td>\n",
       "      <td>0</td>\n",
       "      <td>a</td>\n",
       "      <td>1</td>\n",
       "    </tr>\n",
       "    <tr>\n",
       "      <th>2013-01-01</th>\n",
       "      <td>376</td>\n",
       "      <td>2</td>\n",
       "      <td>0</td>\n",
       "      <td>0</td>\n",
       "      <td>0</td>\n",
       "      <td>a</td>\n",
       "      <td>1</td>\n",
       "    </tr>\n",
       "  </tbody>\n",
       "</table>\n",
       "</div>"
      ],
      "text/plain": [
       "            Store  DayOfWeek  Sales  Open  Promo StateHoliday  SchoolHoliday\n",
       "Date                                                                        \n",
       "2013-01-01   1115          2      0     0      0            a              1\n",
       "2013-01-01    379          2      0     0      0            a              1\n",
       "2013-01-01    378          2      0     0      0            a              1\n",
       "2013-01-01    377          2      0     0      0            a              1\n",
       "2013-01-01    376          2      0     0      0            a              1"
      ]
     },
     "execution_count": 72,
     "metadata": {},
     "output_type": "execute_result"
    }
   ],
   "source": [
    "Seasonal = train.loc[:,['Store','Date','DayOfWeek','Sales','Open','Promo','StateHoliday','SchoolHoliday']]\n",
    "Seasonal = Seasonal.set_index(['Date']).sort_index()\n",
    "Seasonal.head()"
   ]
  },
  {
   "cell_type": "code",
   "execution_count": 73,
   "metadata": {
    "collapsed": false
   },
   "outputs": [
    {
     "name": "stdout",
     "output_type": "stream",
     "text": [
      "<class 'pandas.core.frame.DataFrame'>\n",
      "DatetimeIndex: 1017209 entries, 2013-01-01 to 2015-07-31\n",
      "Data columns (total 7 columns):\n",
      "Store            1017209 non-null int64\n",
      "DayOfWeek        1017209 non-null int64\n",
      "Sales            1017209 non-null int64\n",
      "Open             1017209 non-null int64\n",
      "Promo            1017209 non-null int64\n",
      "StateHoliday     1017209 non-null object\n",
      "SchoolHoliday    1017209 non-null int64\n",
      "dtypes: int64(6), object(1)\n",
      "memory usage: 62.1+ MB\n"
     ]
    }
   ],
   "source": [
    "Seasonal.info()"
   ]
  },
  {
   "cell_type": "code",
   "execution_count": 74,
   "metadata": {
    "collapsed": false
   },
   "outputs": [],
   "source": [
    "#Month day year\n",
    "Seasonal = Seasonal.assign(Month = lambda x: x.index.month).assign(Year = lambda x: x.index.year).assign(Day = lambda x: x.index.day)"
   ]
  },
  {
   "cell_type": "code",
   "execution_count": 75,
   "metadata": {
    "collapsed": false
   },
   "outputs": [],
   "source": [
    "#Is december, is july, is february\n",
    "Seasonal.loc[:,'Is_December'] = 0\n",
    "Seasonal.loc[Seasonal.Month==12, 'Is_December']=1\n",
    "Seasonal.loc[:,'Is_july']=0\n",
    "Seasonal.loc[Seasonal.Month==7, 'Is_july']=1\n",
    "Seasonal.loc[:,'Is_february']=0\n",
    "Seasonal.loc[Seasonal.Month==2, 'Is_february']=1"
   ]
  },
  {
   "cell_type": "code",
   "execution_count": 76,
   "metadata": {
    "collapsed": false
   },
   "outputs": [],
   "source": [
    "#Is last two weeks of december\n",
    "Seasonal.loc[:,'Is_last_two_weeks_of_year'] = 0\n",
    "Seasonal.loc[(Seasonal.Month==12)&(Seasonal.Day>20),'Is_last_two_weeks_of_year']=1"
   ]
  },
  {
   "cell_type": "code",
   "execution_count": 77,
   "metadata": {
    "collapsed": false
   },
   "outputs": [],
   "source": [
    "#Is december'14 \n",
    "Seasonal.loc[:,'Is_december_2014'] =0 \n",
    "Seasonal.loc[(Seasonal.Month==12)&(Seasonal.Year==2014),'Is_december_2014']=1"
   ]
  },
  {
   "cell_type": "code",
   "execution_count": 78,
   "metadata": {
    "collapsed": false
   },
   "outputs": [],
   "source": [
    "#Is monday, Is sunday, Is thursday\n",
    "Seasonal.loc[:,'Is_monday']=0\n",
    "Seasonal.loc[(Seasonal.DayOfWeek==1),'Is_monday'] =1\n",
    "Seasonal.loc[:,'Is_sunday']=0\n",
    "Seasonal.loc[(Seasonal.DayOfWeek==7),'Is_sunday'] =1\n",
    "Seasonal.loc[:,'Is_thursday']=0\n",
    "Seasonal.loc[(Seasonal.DayOfWeek==4),'Is_thursday']=1"
   ]
  },
  {
   "cell_type": "code",
   "execution_count": 79,
   "metadata": {
    "collapsed": false
   },
   "outputs": [],
   "source": [
    "#Is_more_promo_sale_store, Is_less_promo_sale_store\n",
    "Stores_more_promo_sales = [96,  198,  271,  286,  489,  543,  552,  575,  607,  635,  693,  898, 1108]\n",
    "Stores_less_promo_sales = [85,  259,  262,  274,  299,  353,  423,  512,  530,  562,  676,  733,  769,  948, 1097]\n",
    "Seasonal.loc[:,'Is_more_promo_sale_store']=0\n",
    "Seasonal.loc[:,'Is_less_promo_sale_store']=0\n",
    "Seasonal.loc[Seasonal.Store.isin(Stores_more_promo_sales), 'Is_more_promo_sale_store']=1\n",
    "Seasonal.loc[Seasonal.Store.isin(Stores_less_promo_sales), 'Is_less_promo_sale_store']=1"
   ]
  },
  {
   "cell_type": "code",
   "execution_count": 80,
   "metadata": {
    "collapsed": true
   },
   "outputs": [],
   "source": [
    "#Is_store_greater_public_holiday_sale\n",
    "Stores_more_public_holiday_sale = [85, 259,  262,  274,  335, 353,  423,  453,  494,  512,  530,  562,  578,  676,  682,\n",
    "  733,  769,  948, 1081, 1097, 1099]\n",
    "Seasonal.loc[:,'Is_more_pubHoliday_sale_store']=0\n",
    "Seasonal.loc[(Seasonal.Store.isin(Stores_more_public_holiday_sale)), 'Is_more_pubHoliday_sale_store'] =1"
   ]
  },
  {
   "cell_type": "code",
   "execution_count": 81,
   "metadata": {
    "collapsed": false
   },
   "outputs": [],
   "source": [
    "#Is_store_nonzero_easter_sale\n",
    "Stores_nonzero_easter_sale = [85,  122,  209,  259,  262,  274,  299,  310,  335,  353,  423,  433,  453,  494,  512,\n",
    "  524,  530,  562,  578,  676,  682,  732,  733,  769,  863,  867,  931,  948, 1045, 1081, 1097, 1099]\n",
    "Seasonal.loc[:,'Is_nonzero_easter_sale_store']=0\n",
    "Seasonal.loc[Seasonal.Store.isin(Stores_nonzero_easter_sale),'Is_nonzero_easter_sale_store']=1"
   ]
  },
  {
   "cell_type": "code",
   "execution_count": 82,
   "metadata": {
    "collapsed": true
   },
   "outputs": [],
   "source": [
    "#Is_store_nonzero_christmass_sale\n",
    "Stores_nonzero_christmass_sale = [85,  259,  262, 274,  299,  335,  353,  423,  494,  512,  530,  562,  676,  682, 733,\n",
    "  769,  948, 1081, 1097, 1099]\n",
    "Seasonal.loc[:,'Is_nonzero_christmass_sale_store']=0\n",
    "Seasonal.loc[Seasonal.Store.isin(Stores_nonzero_christmass_sale),'Is_nonzero_christmass_sale_store']=1"
   ]
  },
  {
   "cell_type": "code",
   "execution_count": 83,
   "metadata": {
    "collapsed": false
   },
   "outputs": [],
   "source": [
    "#Is_store_schoolopen_sale_more\n",
    "Stores_schoolopen_sale_more = [10,   56,   77,   85,  107, 130,  182,  202,  226,  233,  245,  259,  262,  274,  285,\n",
    "  294,  305,  311,  337,  353,  383,  409,  414,  481,  511,  512,  548,  562,  568,  584, 602,  659,  661,  662,  676, \n",
    "708,  733,  744,  769,  773,  807,  818,  868,  937,  948, 970, 1020, 1083, 1097, 1115]\n",
    "\n",
    "Seasonal.loc[:, 'Is_store_schoolopen_sale_more']=0\n",
    "Seasonal.loc[Seasonal.Store.isin(Stores_schoolopen_sale_more),'Is_store_schoolopen_sale_more']=1"
   ]
  },
  {
   "cell_type": "code",
   "execution_count": 84,
   "metadata": {
    "collapsed": false
   },
   "outputs": [],
   "source": [
    "#Make categorical data from StateHoliday\n",
    "Seasonal.StateHoliday = Seasonal.StateHoliday.map(lambda x: str(x))\n",
    "Seasonal = pd.concat([Seasonal, pd.get_dummies(Seasonal.StateHoliday, prefix ='Is_stateholiday')],axis=1)\n",
    "Seasonal.drop('StateHoliday', axis=1, inplace=True)"
   ]
  },
  {
   "cell_type": "code",
   "execution_count": 85,
   "metadata": {
    "collapsed": false
   },
   "outputs": [
    {
     "name": "stdout",
     "output_type": "stream",
     "text": [
      "<class 'pandas.core.frame.DataFrame'>\n",
      "DatetimeIndex: 1017209 entries, 2013-01-01 to 2015-07-31\n",
      "Data columns (total 27 columns):\n",
      "Store                               1017209 non-null int64\n",
      "DayOfWeek                           1017209 non-null int64\n",
      "Sales                               1017209 non-null int64\n",
      "Open                                1017209 non-null int64\n",
      "Promo                               1017209 non-null int64\n",
      "SchoolHoliday                       1017209 non-null int64\n",
      "Month                               1017209 non-null int32\n",
      "Year                                1017209 non-null int32\n",
      "Day                                 1017209 non-null int32\n",
      "Is_December                         1017209 non-null int64\n",
      "Is_july                             1017209 non-null int64\n",
      "Is_february                         1017209 non-null int64\n",
      "Is_last_two_weeks_of_year           1017209 non-null int64\n",
      "Is_december_2014                    1017209 non-null int64\n",
      "Is_monday                           1017209 non-null int64\n",
      "Is_sunday                           1017209 non-null int64\n",
      "Is_thursday                         1017209 non-null int64\n",
      "Is_more_promo_sale_store            1017209 non-null int64\n",
      "Is_less_promo_sale_store            1017209 non-null int64\n",
      "Is_more_pubHoliday_sale_store       1017209 non-null int64\n",
      "Is_nonzero_easter_sale_store        1017209 non-null int64\n",
      "Is_nonzero_christmass_sale_store    1017209 non-null int64\n",
      "Is_store_schoolopen_sale_more       1017209 non-null int64\n",
      "Is_stateholiday_0                   1017209 non-null uint8\n",
      "Is_stateholiday_a                   1017209 non-null uint8\n",
      "Is_stateholiday_b                   1017209 non-null uint8\n",
      "Is_stateholiday_c                   1017209 non-null uint8\n",
      "dtypes: int32(3), int64(20), uint8(4)\n",
      "memory usage: 178.5 MB\n"
     ]
    }
   ],
   "source": [
    "Seasonal.info()"
   ]
  },
  {
   "cell_type": "code",
   "execution_count": null,
   "metadata": {
    "collapsed": true
   },
   "outputs": [],
   "source": []
  }
 ],
 "metadata": {
  "anaconda-cloud": {},
  "kernelspec": {
   "display_name": "Python [conda root]",
   "language": "python",
   "name": "conda-root-py"
  },
  "language_info": {
   "codemirror_mode": {
    "name": "ipython",
    "version": 3
   },
   "file_extension": ".py",
   "mimetype": "text/x-python",
   "name": "python",
   "nbconvert_exporter": "python",
   "pygments_lexer": "ipython3",
   "version": "3.5.3"
  }
 },
 "nbformat": 4,
 "nbformat_minor": 1
}
